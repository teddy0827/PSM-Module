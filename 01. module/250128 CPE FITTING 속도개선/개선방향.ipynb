{
 "cells": [
  {
   "cell_type": "markdown",
   "metadata": {},
   "source": [
    "# 250128 CPE19para RK-> Fitting  속도 오래걸림 개선\n",
    "\n",
    "* 배경\n",
    "PSM_DECORRECT 이나 CPE_FITTING이나   RK값을 FITTING하는건데,  속도차이가 큼.  CPE_FITTING은 행단위로 순회하면서 연산(iterrrows)하면서 속도가 오래 걸림\n",
    "PSM_DECORRECT처럼 groupby 후 해당그룹의 계수를 한번만 불러와서 매트릭스 곱 형태로 바꿔야함. \n",
    "\n",
    "\n",
    "※ 주의사항 \n",
    "def psm_decorrect(df_rawdata, df_psm_input):\n",
    "    grouped = df_rawdata.groupby(['UNIQUE_ID3', 'DieX', 'DieY'])\n",
    "    psm_input_list = []\n",
    "\n",
    "-> UNIQUE_ID3 으로 하면,  E1,E2,E3 구분을 못해주는데  이렇게 해도 값에 문제없는지 확인해봐야함 !!!!!\n",
    "\n",
    "\n",
    "\n"
   ]
  },
  {
   "cell_type": "markdown",
   "metadata": {},
   "source": []
  }
 ],
 "metadata": {
  "language_info": {
   "name": "python"
  }
 },
 "nbformat": 4,
 "nbformat_minor": 2
}
