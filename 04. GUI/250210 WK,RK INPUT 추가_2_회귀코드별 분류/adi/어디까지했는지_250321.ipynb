{
 "cells": [
  {
   "cell_type": "markdown",
   "metadata": {},
   "source": [
    "# 250321\n",
    "1. gui 구현\n",
    "2. 회귀코드별 구분함.  근데 para갯수가 달라서 계수칸과 맞지않아서 에러발생함. \n",
    "   -> kmrc는 19para기본에  18para까지 호환될 수 있게 if문으로 케이스 구분해놓음\n",
    "   \n",
    "해야할것. \n",
    "psm, cpe도 para에 맞춰서 coeff갯수 달라져야함.  if문으로 맞춰놓자. \n",
    "아 그리고 33para, 6para 이상한걸로 되있음. 수정해줘야함\n",
    "\n"
   ]
  }
 ],
 "metadata": {
  "language_info": {
   "name": "python"
  }
 },
 "nbformat": 4,
 "nbformat_minor": 2
}
